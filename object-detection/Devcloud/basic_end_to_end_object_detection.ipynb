{
 "cells": [
  {
   "cell_type": "markdown",
   "metadata": {},
   "source": [
    "\n",
    "\n",
    "# Object detection with Intel® Distribution of OpenVINO™ toolkit\n",
    "\n",
    "This tutorial uses a Single Shot MultiBox Detector (SSD) on a trained mobilenet-ssd* model to walk you through the basic steps of using two key components of the Intel® Distribution of OpenVINO™ toolkit: Model Optimizer and Inference Engine.\n",
    "\n",
    "Model Optimizer is a cross-platform command-line tool that takes pre-trained deep learning models and optimizes them for performance/space using conservative topology transformations. It performs static model analysis and adjusts deep learning models for optimal execution on end-point target devices.\n",
    "\n",
    "Inference is the process of using a trained neural network to interpret data such as images. This lab feeds a short video of cars, frame-by-frame, to the Inference Engine which subsequently utilizes an optimized trained neural network to detect cars.\n",
    "\n",
    "\n"
   ]
  },
  {
   "cell_type": "markdown",
   "metadata": {},
   "source": [
    "## Step 0: Set Up\n",
    "\n",
    "### 0.1: Import Dependicies\n",
    "\n",
    "Execute the following cell to import Python dependencies needed for displaying the results in this notebook (tip: select the cell and use Ctrl+Enter to execute the cell)\n"
   ]
  },
  {
   "cell_type": "code",
   "execution_count": 1,
   "metadata": {},
   "outputs": [],
   "source": [
    "from IPython.display import HTML\n",
    "import matplotlib.pyplot as plt\n",
    "import os\n",
    "import time\n",
    "import sys                                     \n",
    "from pathlib import Path\n",
    "sys.path.insert(0, str(Path().resolve().parent.parent))\n",
    "sys.path.insert(0,os.path.join(os.environ['HOME'],'Reference-samples/iot-devcloud/demoTools/'))\n",
    "from demoutils import *\n",
    "from openvino.inference_engine import IEPlugin, IENetwork\n",
    "import cv2"
   ]
  },
  {
   "cell_type": "markdown",
   "metadata": {},
   "source": [
    "### 0.2 Build the OpenVINO Samples\n",
    "\n",
    "Execute the following cell to build the samples."
   ]
  },
  {
   "cell_type": "code",
   "execution_count": 2,
   "metadata": {},
   "outputs": [
    {
     "name": "stdout",
     "output_type": "stream",
     "text": [
      "-- Looking for C++ include unistd.h\n",
      "-- Looking for C++ include unistd.h - found\n",
      "-- Looking for C++ include stdint.h\n",
      "-- Looking for C++ include stdint.h - found\n",
      "-- Looking for C++ include sys/types.h\n",
      "-- Looking for C++ include sys/types.h - found\n",
      "-- Looking for C++ include fnmatch.h\n",
      "-- Looking for C++ include fnmatch.h - found\n",
      "-- Looking for C++ include stddef.h\n",
      "-- Looking for C++ include stddef.h - found\n",
      "-- Check size of uint32_t\n",
      "-- Check size of uint32_t - done\n",
      "-- Looking for strtoll\n",
      "-- Looking for strtoll - found\n",
      "-- Found InferenceEngine: /opt/intel/openvino_2019.1.094/deployment_tools/inference_engine/lib/intel64/libinference_engine.so (Required is at least version \"1.6\") \n",
      "-- Performing Test HAVE_CPUID_INFO\n",
      "-- Performing Test HAVE_CPUID_INFO - Success\n",
      "-- Host CPU features:\n",
      "--   3DNOW not supported\n",
      "--   3DNOWEXT not supported\n",
      "--   ABM not supported\n",
      "--   ADX supported\n",
      "--   AES supported\n",
      "--   AVX supported\n",
      "--   AVX2 supported\n",
      "--   AVX512CD supported\n",
      "--   AVX512F supported\n",
      "--   AVX512ER not supported\n",
      "--   AVX512PF not supported\n",
      "--   BMI1 supported\n",
      "--   BMI2 supported\n",
      "--   CLFSH supported\n",
      "--   CMPXCHG16B supported\n",
      "--   CX8 supported\n",
      "--   ERMS supported\n",
      "--   F16C supported\n",
      "--   FMA supported\n",
      "--   FSGSBASE supported\n",
      "--   FXSR supported\n",
      "--   HLE supported\n",
      "--   INVPCID supported\n",
      "--   LAHF supported\n",
      "--   LZCNT supported\n",
      "--   MMX supported\n",
      "--   MMXEXT not supported\n",
      "--   MONITOR supported\n",
      "--   MOVBE supported\n",
      "--   MSR supported\n",
      "--   OSXSAVE supported\n",
      "--   PCLMULQDQ supported\n",
      "--   POPCNT supported\n",
      "--   PREFETCHWT1 not supported\n",
      "--   RDRAND supported\n",
      "--   RDSEED supported\n",
      "--   RDTSCP supported\n",
      "--   RTM supported\n",
      "--   SEP supported\n",
      "--   SHA not supported\n",
      "--   SSE supported\n",
      "--   SSE2 supported\n",
      "--   SSE3 supported\n",
      "--   SSE4.1 supported\n",
      "--   SSE4.2 supported\n",
      "--   SSE4a not supported\n",
      "--   SSSE3 supported\n",
      "--   SYSCALL supported\n",
      "--   TBM not supported\n",
      "--   XOP not supported\n",
      "--   XSAVE supported\n",
      "-- TBB include: /opt/intel/openvino_2019.1.094/deployment_tools/inference_engine/external/tbb/include\n",
      "-- TBB Release lib: /opt/intel/openvino_2019.1.094/deployment_tools/inference_engine/external/tbb/lib/libtbb.so\n",
      "-- TBB Debug lib: /opt/intel/openvino_2019.1.094/deployment_tools/inference_engine/external/tbb/lib/libtbb_debug.so\n",
      "-- Looking for pthread.h\n",
      "-- Looking for pthread.h - found\n",
      "-- Looking for pthread_create\n",
      "-- Looking for pthread_create - not found\n",
      "-- Looking for pthread_create in pthreads\n",
      "-- Looking for pthread_create in pthreads - not found\n",
      "-- Looking for pthread_create in pthread\n",
      "-- Looking for pthread_create in pthread - found\n",
      "-- Found Threads: TRUE  \n",
      "-- Configuring done\n",
      "-- Generating done\n",
      "-- Build files have been written to: /home/u28679/inference_engine_samples_build\n",
      "[  1%] Built target hello_classification\n",
      "[  2%] Built target hello_autoresize_classification\n",
      "[  4%] Built target hello_request_classification\n",
      "[ 10%] Built target format_reader\n",
      "[ 10%] Built target gflags_nothreads_static\n",
      "[ 33%] Built target ie_cpu_extension\n",
      "[ 35%] Built target end2end_video_analytics_opencv\n",
      "[ 35%] Built target lenet_network_graph_builder\n",
      "[ 36%] Built target security_barrier_camera_demo\n",
      "[ 39%] Built target object_detection_demo\n",
      "[ 41%] Built target human_pose_estimation_demo\n",
      "[ 42%] Built target benchmark_app\n",
      "[ 42%] Built target object_detection_demo_ssd_async\n",
      "[ 48%] Built target validation_app\n",
      "[ 50%] Built target crossroad_camera_demo\n",
      "[ 50%] Built target speech_sample\n",
      "[ 55%] Built target common\n",
      "[ 57%] Built target object_detection_sample_ssd\n",
      "[ 58%] Built target segmentation_demo\n",
      "[ 68%] Built target calibration_tool\n",
      "[ 68%] Built target interactive_face_detection_demo\n",
      "[ 69%] Built target end2end_video_analytics_ie\n",
      "[ 70%] Built target mask_rcnn_demo\n",
      "[ 76%] Built target pedestrian_tracker_demo\n",
      "[ 77%] Built target perfcheck\n",
      "[ 78%] Built target hello_shape_infer_ssd\n",
      "[ 81%] Built target classification_sample\n",
      "[ 81%] Built target style_transfer_sample\n",
      "[ 82%] Built target object_detection_demo_yolov3_async\n",
      "[ 83%] Built target classification_sample_async\n",
      "[ 87%] Built target text_detection_demo\n",
      "[ 94%] Built target multi-channel-face-detection-demo\n",
      "[ 95%] Built target smart_classroom_demo\n",
      "[ 96%] Built target super_resolution_demo\n",
      "[100%] Built target multi-channel-human-pose-estimation-demo\n",
      "\n",
      "Build completed, you can find binaries for all samples in the /home/u28679/inference_engine_samples_build/intel64/Release subfolder.\n",
      "\n"
     ]
    }
   ],
   "source": [
    "! /opt/intel/openvino/deployment_tools/inference_engine/samples/build_samples.sh"
   ]
  },
  {
   "cell_type": "markdown",
   "metadata": {},
   "source": [
    "### 0.3 Run model downloader script to download example deep learning models"
   ]
  },
  {
   "cell_type": "code",
   "execution_count": 3,
   "metadata": {},
   "outputs": [
    {
     "name": "stdout",
     "output_type": "stream",
     "text": [
      "\n",
      "###############|| Downloading topologies ||###############\n",
      "\n",
      "========= Downloading /home/u28679/Reference-samples/smart-video-workshop/object-detection/Python/object_detection/common/mobilenet-ssd/caffe/mobilenet-ssd.prototxt\n",
      "... 100%, 28 KB, 60595 KB/s, 0 seconds passed\n",
      "\n",
      "========= Downloading /home/u28679/Reference-samples/smart-video-workshop/object-detection/Python/object_detection/common/mobilenet-ssd/caffe/mobilenet-ssd.caffemodel\n",
      "... 100%, 22605 KB, 22457 KB/s, 1 seconds passed\n",
      "\n",
      "========= Downloading /home/u28679/Reference-samples/smart-video-workshop/object-detection/Python/object_detection/common/ssd/300/caffe/ssd300.prototxt\n",
      "========= Downloading /home/u28679/Reference-samples/smart-video-workshop/object-detection/Python/object_detection/common/ssd/300/caffe/ssd300.caffemodel\n",
      "... 100%, 95497 KB, 26735 KB/s, 3 seconds passed\n",
      "\n",
      "========= Downloading /home/u28679/Reference-samples/smart-video-workshop/object-detection/Python/object_detection/common/ssd/512/caffe/ssd512.prototxt\n",
      "========= Downloading /home/u28679/Reference-samples/smart-video-workshop/object-detection/Python/object_detection/common/ssd/512/caffe/ssd512.caffemodel\n",
      "... 100%, 98624 KB, 27072 KB/s, 3 seconds passed\n",
      "\n",
      "========= Downloading /home/u28679/Reference-samples/smart-video-workshop/object-detection/Python/classification/squeezenet/1.1/caffe/squeezenet1.1.prototxt\n",
      "... 100%, 9 KB, 37544 KB/s, 0 seconds passed\n",
      "\n",
      "========= Downloading /home/u28679/Reference-samples/smart-video-workshop/object-detection/Python/classification/squeezenet/1.1/caffe/squeezenet1.1.caffemodel\n",
      "... 100%, 4834 KB, 24947 KB/s, 0 seconds passed\n",
      "\n",
      "========= Downloading /home/u28679/Reference-samples/smart-video-workshop/object-detection/Python/Retail/object_detection/face/sqnet1.0modif-ssd/0004/dldt/face-detection-retail-0004.xml\n",
      "... 100%, 47 KB, 2043 KB/s, 0 seconds passed\n",
      "\n",
      "========= Downloading /home/u28679/Reference-samples/smart-video-workshop/object-detection/Python/Retail/object_detection/face/sqnet1.0modif-ssd/0004/dldt/face-detection-retail-0004.bin\n",
      "... 100%, 2297 KB, 25024 KB/s, 0 seconds passed\n",
      "\n",
      "========= Downloading /home/u28679/Reference-samples/smart-video-workshop/object-detection/Python/Retail/object_detection/face/sqnet1.0modif-ssd/0004/dldt/face-detection-retail-0004-fp16.xml\n",
      "... 100%, 47 KB, 19804 KB/s, 0 seconds passed\n",
      "\n",
      "========= Downloading /home/u28679/Reference-samples/smart-video-workshop/object-detection/Python/Retail/object_detection/face/sqnet1.0modif-ssd/0004/dldt/face-detection-retail-0004-fp16.bin\n",
      "... 100%, 1148 KB, 30517 KB/s, 0 seconds passed\n",
      "\n",
      "========= Downloading /home/u28679/Reference-samples/smart-video-workshop/object-detection/Python/Retail/object_attributes/age_gender/dldt/age-gender-recognition-retail-0013.xml\n",
      "... 100%, 14 KB, 45024 KB/s, 0 seconds passed\n",
      "\n",
      "========= Downloading /home/u28679/Reference-samples/smart-video-workshop/object-detection/Python/Retail/object_attributes/age_gender/dldt/age-gender-recognition-retail-0013.bin\n",
      "... 100%, 8351 KB, 28837 KB/s, 0 seconds passed\n",
      "\n",
      "========= Downloading /home/u28679/Reference-samples/smart-video-workshop/object-detection/Python/Retail/object_attributes/age_gender/dldt/age-gender-recognition-retail-0013-fp16.xml\n",
      "... 100%, 14 KB, 17749 KB/s, 0 seconds passed\n",
      "\n",
      "========= Downloading /home/u28679/Reference-samples/smart-video-workshop/object-detection/Python/Retail/object_attributes/age_gender/dldt/age-gender-recognition-retail-0013-fp16.bin\n",
      "... 100%, 4175 KB, 28739 KB/s, 0 seconds passed\n",
      "\n",
      "========= Downloading /home/u28679/Reference-samples/smart-video-workshop/object-detection/Python/Transportation/object_attributes/headpose/vanilla_cnn/dldt/head-pose-estimation-adas-0001.xml\n",
      "... 100%, 17 KB, 42357 KB/s, 0 seconds passed\n",
      "\n",
      "========= Downloading /home/u28679/Reference-samples/smart-video-workshop/object-detection/Python/Transportation/object_attributes/headpose/vanilla_cnn/dldt/head-pose-estimation-adas-0001.bin\n",
      "... 100%, 7466 KB, 29127 KB/s, 0 seconds passed\n",
      "\n",
      "========= Downloading /home/u28679/Reference-samples/smart-video-workshop/object-detection/Python/Transportation/object_attributes/headpose/vanilla_cnn/dldt/head-pose-estimation-adas-0001-fp16.xml\n",
      "... 100%, 17 KB, 37907 KB/s, 0 seconds passed\n",
      "\n",
      "========= Downloading /home/u28679/Reference-samples/smart-video-workshop/object-detection/Python/Transportation/object_attributes/headpose/vanilla_cnn/dldt/head-pose-estimation-adas-0001-fp16.bin\n",
      "... 100%, 3733 KB, 29363 KB/s, 0 seconds passed\n",
      "\n",
      "========= Downloading /home/u28679/Reference-samples/smart-video-workshop/object-detection/Python/Retail/object_attributes/emotions_recognition/0003/dldt/emotions-recognition-retail-0003.xml\n",
      "... 100%, 19 KB, 855 KB/s, 0 seconds passed\n",
      "\n",
      "========= Downloading /home/u28679/Reference-samples/smart-video-workshop/object-detection/Python/Retail/object_attributes/emotions_recognition/0003/dldt/emotions-recognition-retail-0003.bin\n",
      "... 100%, 9697 KB, 28813 KB/s, 0 seconds passed\n",
      "\n",
      "========= Downloading /home/u28679/Reference-samples/smart-video-workshop/object-detection/Python/Retail/object_attributes/emotions_recognition/0003/dldt/emotions-recognition-retail-0003-fp16.xml\n",
      "... 100%, 19 KB, 42664 KB/s, 0 seconds passed\n",
      "\n",
      "========= Downloading /home/u28679/Reference-samples/smart-video-workshop/object-detection/Python/Retail/object_attributes/emotions_recognition/0003/dldt/emotions-recognition-retail-0003-fp16.bin\n",
      "... 100%, 4848 KB, 28982 KB/s, 0 seconds passed\n",
      "\n",
      "========= Downloading /home/u28679/Reference-samples/smart-video-workshop/object-detection/Python/Transportation/object_attributes/facial_landmarks/custom-35-facial-landmarks/dldt/facial-landmarks-35-adas-0002.xml\n",
      "... 100%, 108 KB, 2290 KB/s, 0 seconds passed\n",
      "\n",
      "========= Downloading /home/u28679/Reference-samples/smart-video-workshop/object-detection/Python/Transportation/object_attributes/facial_landmarks/custom-35-facial-landmarks/dldt/facial-landmarks-35-adas-0002.bin\n",
      "... 100%, 17950 KB, 28869 KB/s, 0 seconds passed\n",
      "\n",
      "========= Downloading /home/u28679/Reference-samples/smart-video-workshop/object-detection/Python/Transportation/object_attributes/facial_landmarks/custom-35-facial-landmarks/dldt/facial-landmarks-35-adas-0002-fp16.xml\n",
      "... 100%, 108 KB, 2326 KB/s, 0 seconds passed\n",
      "\n",
      "========= Downloading /home/u28679/Reference-samples/smart-video-workshop/object-detection/Python/Transportation/object_attributes/facial_landmarks/custom-35-facial-landmarks/dldt/facial-landmarks-35-adas-0002-fp16.bin\n",
      "... 100%, 8975 KB, 28801 KB/s, 0 seconds passed\n",
      "\n",
      "\n",
      "###############|| Post processing ||###############\n",
      "\n",
      "========= Deleting \"save_output_param\" from ssd300.prototxt =========\n",
      "========= Deleting \"save_output_param\" from ssd512.prototxt =========\n",
      "========= Changing input dimensions in squeezenet1.1.prototxt =========\n"
     ]
    }
   ],
   "source": [
    "! python3 /opt/intel/openvino/deployment_tools/tools/model_downloader/downloader.py --name mobilenet-ssd,ssd300,ssd512,squeezenet1.1,face-detection-retail-0004,face-detection-retail-0004-fp16,age-gender-recognition-retail-0013,age-gender-recognition-retail-0013-fp16,head-pose-estimation-adas-0001,head-pose-estimation-adas-0001-fp16,emotions-recognition-retail-0003,emotions-recognition-retail-0003-fp16,facial-landmarks-35-adas-0002,facial-landmarks-35-adas-0002-fp16"
   ]
  },
  {
   "cell_type": "markdown",
   "metadata": {},
   "source": [
    "\n",
    "    \n",
    "## Step 1: Optimize a deep-learning model using the Model Optimizer (MO)\n",
    "\n",
    "In this section, you will use the Model Optimizer to convert a trained model to two Intermediate Representation (IR) files (one .bin and one .xml). The Inference Engine requires this model conversion so that it can use the IR as input and achieve optimum performance on Intel hardware.\n",
    "\n",
    "\n",
    "### 1.1 Create a directory to store IR files"
   ]
  },
  {
   "cell_type": "code",
   "execution_count": 4,
   "metadata": {},
   "outputs": [],
   "source": [
    "! mkdir -p $HOME/Reference-samples/smart-video-workshop/object-detection/mobilenet-ssd/FP32 \n",
    "! mkdir -p $HOME/Reference-samples/smart-video-workshop/object-detection/mobilenet-ssd/FP16\n"
   ]
  },
  {
   "cell_type": "markdown",
   "metadata": {},
   "source": [
    "   \n",
    "### 1.2 Run the Model Optimizer on the pretrained Caffe* model. This step generates one .xml file and one .bin file and places both files in the tutorial samples directory (located here: /object-detection/)"
   ]
  },
  {
   "cell_type": "code",
   "execution_count": 5,
   "metadata": {},
   "outputs": [
    {
     "name": "stdout",
     "output_type": "stream",
     "text": [
      "Model Optimizer arguments:\n",
      "Common parameters:\n",
      "\t- Path to the Input Model: \t/home/u28679/Reference-samples/smart-video-workshop/object-detection/Python/object_detection/common/mobilenet-ssd/caffe/mobilenet-ssd.caffemodel\n",
      "\t- Path for generated IR: \t/home/u28679/Reference-samples/smart-video-workshop/object-detection/mobilenet-ssd/FP32\n",
      "\t- IR output name: \tmobilenet-ssd\n",
      "\t- Log level: \tERROR\n",
      "\t- Batch: \tNot specified, inherited from the model\n",
      "\t- Input layers: \tNot specified, inherited from the model\n",
      "\t- Output layers: \tNot specified, inherited from the model\n",
      "\t- Input shapes: \tNot specified, inherited from the model\n",
      "\t- Mean values: \t[127,127,127]!\n",
      "\t- Scale values: \tNot specified\n",
      "\t- Scale factor: \t256.0\n",
      "\t- Precision of IR: \tFP32\n",
      "\t- Enable fusing: \tTrue\n",
      "\t- Enable grouped convolutions fusing: \tTrue\n",
      "\t- Move mean values to preprocess section: \tFalse\n",
      "\t- Reverse input channels: \tFalse\n",
      "Caffe specific parameters:\n",
      "\t- Enable resnet optimization: \tTrue\n",
      "\t- Path to the Input prototxt: \t/home/u28679/Reference-samples/smart-video-workshop/object-detection/Python/object_detection/common/mobilenet-ssd/caffe/mobilenet-ssd.prototxt\n",
      "\t- Path to CustomLayersMapping.xml: \tDefault\n",
      "\t- Path to a mean file: \tNot specified\n",
      "\t- Offsets for a mean file: \tNot specified\n",
      "Model Optimizer version: \t2019.1.0-341-gc9b66a2\n",
      "\n",
      "[ SUCCESS ] Generated IR model.\n",
      "[ SUCCESS ] XML file: /home/u28679/Reference-samples/smart-video-workshop/object-detection/mobilenet-ssd/FP32/mobilenet-ssd.xml\n",
      "[ SUCCESS ] BIN file: /home/u28679/Reference-samples/smart-video-workshop/object-detection/mobilenet-ssd/FP32/mobilenet-ssd.bin\n",
      "[ SUCCESS ] Total execution time: 4.47 seconds. \n"
     ]
    }
   ],
   "source": [
    "! python3 /opt/intel/openvino/deployment_tools/model_optimizer/mo_caffe.py --input_model $HOME/Reference-samples/smart-video-workshop/object-detection/Python/object_detection/common/mobilenet-ssd/caffe/mobilenet-ssd.caffemodel -o $HOME/Reference-samples/smart-video-workshop/object-detection/mobilenet-ssd/FP32 --scale 256 --mean_values [127,127,127]! "
   ]
  },
  {
   "cell_type": "code",
   "execution_count": 6,
   "metadata": {},
   "outputs": [
    {
     "name": "stdout",
     "output_type": "stream",
     "text": [
      "Model Optimizer arguments:\n",
      "Common parameters:\n",
      "\t- Path to the Input Model: \t/home/u28679/Reference-samples/smart-video-workshop/object-detection/Python/object_detection/common/mobilenet-ssd/caffe/mobilenet-ssd.caffemodel\n",
      "\t- Path for generated IR: \t/home/u28679/Reference-samples/smart-video-workshop/object-detection/mobilenet-ssd/FP16\n",
      "\t- IR output name: \tmobilenet-ssd\n",
      "\t- Log level: \tERROR\n",
      "\t- Batch: \tNot specified, inherited from the model\n",
      "\t- Input layers: \tNot specified, inherited from the model\n",
      "\t- Output layers: \tNot specified, inherited from the model\n",
      "\t- Input shapes: \tNot specified, inherited from the model\n",
      "\t- Mean values: \t[127,127,127]\n",
      "\t- Scale values: \tNot specified\n",
      "\t- Scale factor: \t256.0\n",
      "\t- Precision of IR: \tFP16\n",
      "\t- Enable fusing: \tTrue\n",
      "\t- Enable grouped convolutions fusing: \tTrue\n",
      "\t- Move mean values to preprocess section: \tFalse\n",
      "\t- Reverse input channels: \tFalse\n",
      "Caffe specific parameters:\n",
      "\t- Enable resnet optimization: \tTrue\n",
      "\t- Path to the Input prototxt: \t/home/u28679/Reference-samples/smart-video-workshop/object-detection/Python/object_detection/common/mobilenet-ssd/caffe/mobilenet-ssd.prototxt\n",
      "\t- Path to CustomLayersMapping.xml: \tDefault\n",
      "\t- Path to a mean file: \tNot specified\n",
      "\t- Offsets for a mean file: \tNot specified\n",
      "Model Optimizer version: \t2019.1.0-341-gc9b66a2\n",
      "\n",
      "[ SUCCESS ] Generated IR model.\n",
      "[ SUCCESS ] XML file: /home/u28679/Reference-samples/smart-video-workshop/object-detection/mobilenet-ssd/FP16/mobilenet-ssd.xml\n",
      "[ SUCCESS ] BIN file: /home/u28679/Reference-samples/smart-video-workshop/object-detection/mobilenet-ssd/FP16/mobilenet-ssd.bin\n",
      "[ SUCCESS ] Total execution time: 4.37 seconds. \n"
     ]
    }
   ],
   "source": [
    "! cd /opt/intel/openvino/deployment_tools/model_optimizer && python3 mo_caffe.py --input_model $HOME/Reference-samples/smart-video-workshop/object-detection/Python/object_detection/common/mobilenet-ssd/caffe/mobilenet-ssd.caffemodel -o $HOME/Reference-samples/smart-video-workshop/object-detection/mobilenet-ssd/FP16 --scale 256 --mean_values [127,127,127] --data_type FP16\n"
   ]
  },
  {
   "cell_type": "markdown",
   "metadata": {},
   "source": [
    "\n",
    "\n",
    "   Note: Although this tutorial uses Single Shot MultiBox Detector (SSD) on a trained mobilenet-ssd* model, the Inference Engine is compatible with other neural network architectures, such as AlexNet*, GoogleNet*, MxNet* etc.\n",
    "\n",
    "\n",
    "The Model Optimizer converts a pretrained Caffe* model to make it compatible with the Intel Inference Engine and optimizes it for Intel® architecture. These are the files you would include with your C++ application to apply inference to visual data.\n",
    "\n",
    "   Note: If you continue to train or make changes to the Caffe* model, you would then need to re-run the Model Optimizer on the updated model.\n",
    "\n",
    "### 1.3 Navigate to the tutorial sample model directory and verify creation of the optimized model files (the IR files)"
   ]
  },
  {
   "cell_type": "code",
   "execution_count": 7,
   "metadata": {},
   "outputs": [
    {
     "name": "stdout",
     "output_type": "stream",
     "text": [
      "mobilenet-ssd.bin  mobilenet-ssd.mapping  mobilenet-ssd.xml\r\n"
     ]
    }
   ],
   "source": [
    "! cd $HOME/Reference-samples/smart-video-workshop/object-detection/mobilenet-ssd/FP32 && ls"
   ]
  },
  {
   "cell_type": "code",
   "execution_count": 8,
   "metadata": {},
   "outputs": [
    {
     "name": "stdout",
     "output_type": "stream",
     "text": [
      "mobilenet-ssd.bin  mobilenet-ssd.mapping  mobilenet-ssd.xml\r\n"
     ]
    }
   ],
   "source": [
    "! cd $HOME/Reference-samples/smart-video-workshop/object-detection/mobilenet-ssd/FP16 && ls"
   ]
  },
  {
   "cell_type": "markdown",
   "metadata": {},
   "source": [
    "\n",
    "### Source your environmental variables"
   ]
  },
  {
   "cell_type": "code",
   "execution_count": 9,
   "metadata": {
    "scrolled": true
   },
   "outputs": [
    {
     "name": "stdout",
     "output_type": "stream",
     "text": [
      "[setupvars.sh] OpenVINO environment initialized\r\n"
     ]
    }
   ],
   "source": [
    "! /opt/intel/openvino/bin/setupvars.sh"
   ]
  },
  {
   "cell_type": "markdown",
   "metadata": {},
   "source": [
    "\n",
    "    \n",
    "####  Download the test video file to the object-detection folder.\n"
   ]
  },
  {
   "cell_type": "markdown",
   "metadata": {},
   "source": [
    "\n",
    "Execute the following cell to download the test video file "
   ]
  },
  {
   "cell_type": "code",
   "execution_count": 10,
   "metadata": {},
   "outputs": [
    {
     "name": "stdout",
     "output_type": "stream",
     "text": [
      "--2019-07-31 02:48:53--  https://pixabay.com/en/videos/download/video-1900_source.mp4\n",
      "Resolving pixabay.com (pixabay.com)... 104.18.141.87, 104.18.82.97, 2606:4700::6812:8d57, ...\n",
      "Connecting to pixabay.com (pixabay.com)|104.18.141.87|:443... connected.\n",
      "HTTP request sent, awaiting response... 301 Moved Permanently\n",
      "Location: /videos/download/video-1900_source.mp4 [following]\n",
      "--2019-07-31 02:48:53--  https://pixabay.com/videos/download/video-1900_source.mp4\n",
      "Reusing existing connection to pixabay.com:443.\n",
      "HTTP request sent, awaiting response... 302 Found\n",
      "Location: https://player.vimeo.com/play/465539722?s=151662242_1564603862_17bfd4e016f887474843f09977d21f5c&loc=external&context=Vimeo%5CController%5CApi%5CResources%5CVideoController.&download=1&filename=Cars%2B-%2B1900source.mp4 [following]\n",
      "--2019-07-31 02:48:53--  https://player.vimeo.com/play/465539722?s=151662242_1564603862_17bfd4e016f887474843f09977d21f5c&loc=external&context=Vimeo%5CController%5CApi%5CResources%5CVideoController.&download=1&filename=Cars%2B-%2B1900source.mp4\n",
      "Resolving player.vimeo.com (player.vimeo.com)... 151.101.188.217\n",
      "Connecting to player.vimeo.com (player.vimeo.com)|151.101.188.217|:443... connected.\n",
      "HTTP request sent, awaiting response... 302 Found\n",
      "Location: https://gcs-vimeo.akamaized.net/exp=1564580933~acl=%2A%2F465539722%2A~hmac=38934eeb9b590c5e0f3cc0ab7a3c7215a06ba4ca72eb8837b604c94a3e43f9d7/vimeo-prod-src-cl-us-legacy/videos/465539722?download=1&filename=Cars+-+1900.mp4&source=1 [following]\n",
      "--2019-07-31 02:48:53--  https://gcs-vimeo.akamaized.net/exp=1564580933~acl=%2A%2F465539722%2A~hmac=38934eeb9b590c5e0f3cc0ab7a3c7215a06ba4ca72eb8837b604c94a3e43f9d7/vimeo-prod-src-cl-us-legacy/videos/465539722?download=1&filename=Cars+-+1900.mp4&source=1\n",
      "Resolving gcs-vimeo.akamaized.net (gcs-vimeo.akamaized.net)... 23.215.102.35, 23.215.102.64\n",
      "Connecting to gcs-vimeo.akamaized.net (gcs-vimeo.akamaized.net)|23.215.102.35|:443... connected.\n",
      "HTTP request sent, awaiting response... 200 OK\n",
      "Length: 47043073 (45M) [video/mp4]\n",
      "Saving to: ‘/home/u28679/Reference-samples/smart-video-workshop/object-detection/Python/video-1900_source.mp4’\n",
      "\n",
      "video-1900_source.m 100%[===================>]  44.86M  27.8MB/s    in 1.6s    \n",
      "\n",
      "2019-07-31 02:48:55 (27.8 MB/s) - ‘/home/u28679/Reference-samples/smart-video-workshop/object-detection/Python/video-1900_source.mp4’ saved [47043073/47043073]\n",
      "\n"
     ]
    }
   ],
   "source": [
    "! wget 'https://pixabay.com/en/videos/download/video-1900_source.mp4' -P $HOME/Reference-samples/smart-video-workshop/object-detection/Python/ "
   ]
  },
  {
   "cell_type": "code",
   "execution_count": 11,
   "metadata": {},
   "outputs": [],
   "source": [
    "! mv video-1900_source.mp4  cars_1900.mp4"
   ]
  },
  {
   "cell_type": "markdown",
   "metadata": {},
   "source": [
    "###  Input Video\n",
    "\n",
    "Execute the following cell to create a symlink and view the input video."
   ]
  },
  {
   "cell_type": "code",
   "execution_count": 12,
   "metadata": {},
   "outputs": [
    {
     "name": "stdout",
     "output_type": "stream",
     "text": [
      "ln: '/home/u28679/Reference-samples/smart-video-workshop/object-detection/Python/cars_1900.mp4' and './cars_1900.mp4' are the same file\r\n"
     ]
    },
    {
     "data": {
      "text/html": [
       "<h2>Cars video</h2>\n",
       "    \n",
       "    <video alt=\"\" controls autoplay height=\"480\"><source src=\"cars_1900.mp4\" type=\"video/mp4\" /></video>\n",
       "    "
      ],
      "text/plain": [
       "<IPython.core.display.HTML object>"
      ]
     },
     "execution_count": 12,
     "metadata": {},
     "output_type": "execute_result"
    }
   ],
   "source": [
    "!ln -sf $HOME/Reference-samples/smart-video-workshop/object-detection/Python/cars_1900.mp4 \n",
    "videoHTML('Cars video', ['cars_1900.mp4'])"
   ]
  },
  {
   "cell_type": "markdown",
   "metadata": {},
   "source": [
    "## Step 3: Inference on a video\n",
    "\n",
    "The Python code takes in command line arguments for video, model and so on.\n",
    "\n",
    "**Command line arguments options and how they are interpreted in the application source code**\n",
    "\n",
    "```\n",
    "SAMPLEPATH=$PBS_O_WORKDIR\n",
    "python3 tutorial1.py -m ${SAMPLEPATH}/../mobilenet-ssd/$3/mobilenet-ssd.xml \\\n",
    "                -i ${INPUT_FILE} \\\n",
    "                -o ${RESULTS_PATH} \\\n",
    "                -d ${DEVICE} \\\n",
    "                -l /opt/intel/openvino/deployment_tools/inference_engine/lib/intel64/libcpu_extension_sse4.so\n",
    "\n",
    "```\n",
    "##### The description of the arguments used in the argument parser is the command line executable equivalent.\n",
    "* -m location of the **mobilenet-ssd** pre-trained model which has been pre-processed using the **model optimizer**.\n",
    "   There is automated support built in this argument to support both FP32 and FP16 models targeting different hardware\n",
    "   (**Note** we are using mobilenet-ssd in this example. However, OpenVINO's Inference Engine is compatible with other neural network architectures such as AlexNet*, GoogleNet*, SqueezeNet* etc.,) \n",
    "* -i  location of the input video stream\n",
    "* -o location where the output file with inference needs to be stored (results/[device])\n",
    "* -d type of Hardware Acceleration (CPU, GPU, MYRIAD, HDDL or HETERO:FPGA,CPU)\n",
    "* -l absolute path to the shared library and is currently optimized for core/xeon (/opt/intel/openvino/deployment_tools/inference_engine/lib/intel64/libcpu_extension_sse4.so)"
   ]
  },
  {
   "cell_type": "markdown",
   "metadata": {},
   "source": [
    "### 3.1: Create a Job File\n",
    "\n",
    "All the code up to this point has been executed within the Jupyter Notebook instance running on a development node based on an Intel® Xeon® Scalable Processor, where the Notebook is allocated to a single core. To run inference on the entire video, you need more compute power. Run the workload on several DevCloud's edge compute nodes and then send work to the edge compute nodes by submitting jobs into a queue. For each job, specify the type of the edge compute server that must be allocated for the job."
   ]
  },
  {
   "cell_type": "markdown",
   "metadata": {},
   "source": [
    "To pass the specific variables to the Python code, we use the following arguments:\n",
    "\n",
    "* `-m`&nbsp;&nbsp;&nbsp;&nbsp;&nbsp;&nbsp;location of the optimized **MobileNet-SSD** model's XML\n",
    "* `-i`&nbsp;&nbsp;&nbsp;&nbsp;&nbsp;&nbsp;location of the input video\n",
    "* `-o`&nbsp;&nbsp;&nbsp;&nbsp;&nbsp;&nbsp;output directory\n",
    "* `-d`&nbsp;&nbsp;&nbsp;&nbsp;&nbsp;&nbsp;hardware device type (CPU, GPU, MYRIAD)\n",
    "* `-l`&nbsp;&nbsp;&nbsp;&nbsp;&nbsp;&nbsp;path to the CPU extension library"
   ]
  },
  {
   "cell_type": "markdown",
   "metadata": {},
   "source": [
    "The job file will be executed directly on the edge compute node."
   ]
  },
  {
   "cell_type": "code",
   "execution_count": 13,
   "metadata": {},
   "outputs": [
    {
     "name": "stdout",
     "output_type": "stream",
     "text": [
      "Overwriting tutorial1_job.sh\n"
     ]
    }
   ],
   "source": [
    "%%writefile tutorial1_job.sh\n",
    "ME=`basename $0`\n",
    "\n",
    "# The default path for the job is your home directory, so we change directory to where the files are.\n",
    "cd $PBS_O_WORKDIR\n",
    "DEVICE=$2\n",
    "FP_MODEL=$3\n",
    "INPUT_FILE=$4\n",
    "RESULTS_BASE=$1\n",
    "\n",
    "\n",
    "NN_MODEL=\"mobilenet-ssd.xml\"\n",
    "RESULTS_PATH=\"${RESULTS_BASE}\"\n",
    "mkdir -p $RESULTS_PATH\n",
    "echo \"$ME is using results path $RESULTS_PATH\"\n",
    "\n",
    "if [ \"$DEVICE\" = \"HETERO:FPGA,CPU\" ]; then\n",
    "    # Environment variables and compilation for edge compute nodes with FPGAs\n",
    "    export LD_LIBRARY_PATH=${LD_LIBRARY_PATH}:/opt/altera/aocl-pro-rte/aclrte-linux64/\n",
    "    # Environment variables and compilation for edge compute nodes with FPGAs\n",
    "    source /opt/fpga_support_files/setup_env.sh\n",
    "    aocl program acl0 /opt/intel/openvino/bitstreams/a10_vision_design_bitstreams/2019R1_PL1_FP11_MobileNet_Clamp.aocx\n",
    "fi\n",
    "    \n",
    "# Running the object detection code\n",
    "SAMPLEPATH=$PBS_O_WORKDIR\n",
    "! python3 tutorial1.py  -m ${SAMPLEPATH}/../mobilenet-ssd/${FP_MODEL}/${NN_MODEL} \\\n",
    "                                            -i $INPUT_FILE \\\n",
    "                                            -o $RESULTS_PATH \\\n",
    "                                            -d $DEVICE \\\n",
    "                                            -l /opt/intel/openvino/deployment_tools/inference_engine/lib/intel64/libcpu_extension_avx2.so"
   ]
  },
  {
   "cell_type": "markdown",
   "metadata": {},
   "source": [
    "### 3.2: Understand how jobs are submitted into the queue\n",
    "\n",
    "Now that we have the job script, we can submit the jobs to edge compute nodes. In the IoT DevCloud, you can do this using the `qsub` command.\n",
    "We can submit people_counter to several different types of edge compute nodes simultaneously or just one node at a time.\n",
    "\n",
    "There are three options of `qsub` command that we use for this:\n",
    "- `-l` : this option let us select the number and the type of nodes using `nodes={node_count}:{property}`. \n",
    "- `-F` : this option let us send arguments to the bash script. \n",
    "- `-N` : this option let us name the job so that it is easier to distinguish between them.\n",
    "\n",
    "The `-F` flag is used to pass arguments to the job script.\n",
    "The [tutorial1_job.sh](tutorial1_job.sh) takes in 4 arguments:\n",
    "1. the path to the directory for the output video and performance stats\n",
    "2. targeted device (e.g. CPU, GPU and MYRIAD.\n",
    "3. the floating precision to use for inference\n",
    "4. location of the input video stream\n",
    "\n",
    "The job scheduler uses the contents of `-F` flag as the argument to the job script.\n",
    "\n",
    "If you are curious to see the available types of nodes on the IoT DevCloud, run the following optional cell."
   ]
  },
  {
   "cell_type": "code",
   "execution_count": 14,
   "metadata": {
    "scrolled": true
   },
   "outputs": [
    {
     "name": "stdout",
     "output_type": "stream",
     "text": [
      "     35 idc001skl,compnode,iei,tank-870,intel-core,i5-6500te,skylake,intel-hd-530,ram8gb,1gbe\r\n",
      "     15 idc002mx8,compnode,iei,tank-870,intel-core,i5-6500te,skylake,intel-hd-530,ram8gb,net1gbe,hddl-r,iei-mustang-v100-mx8\r\n",
      "     18 idc003a10,compnode,iei,tank-870,intel-core,i5-6500te,skylake,intel-hd-530,ram8gb,net1gbe,hddl-f,iei-mustang-f100-a10\r\n",
      "     23 idc004nc2,compnode,iei,tank-870,intel-core,i5-6500te,skylake,intel-hd-530,ram8gb,net1gbe,ncs,intel-ncs2\r\n",
      "     10 idc006kbl,compnode,iei,tank-870,intel-core,i5-7500t,kaby-lake,intel-hd-630,ram8gb,net1gbe\r\n",
      "     16 idc007xv5,compnode,iei,tank-870,intel-xeon,e3-1268l-v5,skylake,intel-hd-p530,ram32gb,net1gbe\r\n",
      "     15 idc008u2g,compnode,up-squared,grove,intel-atom,e3950,apollo-lake,intel-hd-505,ram4gb,net1gbe,ncs,intel-ncs2\r\n",
      "      1 idc009jkl,compnode,jwip,intel-core,i5-7500,kaby-lake,intel-hd-630,ram8gb,net1gbe\r\n",
      "      1 idc010jal,compnode,jwip,intel-atom,e3950,apollo-lake,intel-hd-505,ram4gb,net1gbe\r\n"
     ]
    }
   ],
   "source": [
    "!pbsnodes | grep compnode | awk '{print $3}' | sort | uniq -c"
   ]
  },
  {
   "cell_type": "markdown",
   "metadata": {},
   "source": [
    "Here, the properties describe the node, and number on the left is the number of available nodes of that architecture.\n",
    "\n",
    "**Note**: If you want to use your own video, change the environment variable 'VIDEO' in the following cell from \"cars_1900.mp4\" to the full path of your uploaded video."
   ]
  },
  {
   "cell_type": "code",
   "execution_count": 15,
   "metadata": {},
   "outputs": [],
   "source": [
    "os.environ[\"VIDEO\"] = 'cars_1900.mp4'"
   ]
  },
  {
   "cell_type": "markdown",
   "metadata": {},
   "source": [
    "### 3.3: Job queue submission\n",
    "\n",
    "Each of the cells below will submit a job to different edge compute nodes.\n",
    "The output of the cell is the `JobID` of your job, which you can use to track progress of a job.\n",
    "\n",
    "**Note** You can submit all jobs at once or follow one at a time. \n",
    "\n",
    "After submission, they will go into a queue and run as soon as the requested compute resources become available. \n",
    "(tip: **shift+enter** will run the cell and automatically move you to the next cell. So you can hit **shift+enter** multiple times to quickly run multiple cells)\n",
    "\n",
    "#### Submitting to an edge compute node with an Intel® CPU\n",
    "In the cell below, submit a job to <a \n",
    "    href=\"https://software.intel.com/en-us/iot/hardware/iei-tank-dev-kit-core\">IEI \n",
    "    Tank* 870-Q170</a> edge node with an <a \n",
    "    href=\"https://ark.intel.com/products/88186/Intel-Core-i5-6500TE-Processor-6M-Cache-up-to-3-30-GHz-\">Intel® Core™ i5-6500TE processor</a>. The inference workload will run on the CPU."
   ]
  },
  {
   "cell_type": "code",
   "execution_count": 16,
   "metadata": {},
   "outputs": [
    {
     "name": "stdout",
     "output_type": "stream",
     "text": [
      "38638.c003\n"
     ]
    },
    {
     "data": {
      "application/vnd.jupyter.widget-view+json": {
       "model_id": "1c1d7bab074a4e668014eb7ded5ecf74",
       "version_major": 2,
       "version_minor": 0
      },
      "text/plain": [
       "HBox(children=(FloatProgress(value=0.0, bar_style='info', description='Inference', style=ProgressStyle(descrip…"
      ]
     },
     "metadata": {},
     "output_type": "display_data"
    }
   ],
   "source": [
    "#Submit job to the queue\n",
    "job_id_core = !qsub tutorial1_job.sh -l nodes=1:idc001skl:i5-6500te -F \"results/Core CPU FP32 $VIDEO \" -N obj_det_core\n",
    "print(job_id_core[0]) \n",
    "#Progress indicators\n",
    "if job_id_core:\n",
    "    progressIndicator('results/Core', 'i_progress.txt', \"Inference\", 0, 100)"
   ]
  },
  {
   "cell_type": "markdown",
   "metadata": {},
   "source": [
    "***Wait!***\n",
    "\n",
    "Please wait for 1-2 minutes after running the above cell for inferencing.\n",
    "\n",
    "####  Execute the ROIViewer Sample\n",
    "\n",
    "For simplicity of the code and to put more focus on the performance number, video rendering with rectangle boxes for detected objects has been separated from tutorial1.py\n"
   ]
  },
  {
   "cell_type": "code",
   "execution_count": 17,
   "metadata": {},
   "outputs": [],
   "source": [
    "! python3 ROIviewer.py -i $HOME/Reference-samples/smart-video-workshop/object-detection/Python/cars_1900.mp4  -l $HOME/Reference-samples/smart-video-workshop/object-detection/pascal_voc_classes.txt -o results/Core "
   ]
  },
  {
   "cell_type": "markdown",
   "metadata": {},
   "source": [
    "#### Submitting to an edge compute node with Intel® Core CPU and using the onboard Intel® GPU\n",
    "In the following cell, we submit a job to <a \n",
    "    href=\"https://software.intel.com/en-us/iot/hardware/iei-tank-dev-kit-core\">IEI \n",
    "    Tank* 870-Q170</a> edge node with an <a href=\"https://ark.intel.com/products/88186/Intel-Core-i5-6500TE-Processor-6M-Cache-up-to-3-30-GHz-\">Intel® Core i5-6500TE</a>. The inference workload will run on the Intel® HD Graphics 530 card integrated with the CPU."
   ]
  },
  {
   "cell_type": "code",
   "execution_count": 18,
   "metadata": {},
   "outputs": [
    {
     "name": "stdout",
     "output_type": "stream",
     "text": [
      "38639.c003\n"
     ]
    },
    {
     "data": {
      "application/vnd.jupyter.widget-view+json": {
       "model_id": "352f89afb7e447cbb7537da4e989ebd8",
       "version_major": 2,
       "version_minor": 0
      },
      "text/plain": [
       "HBox(children=(FloatProgress(value=0.0, bar_style='info', description='Inference', style=ProgressStyle(descrip…"
      ]
     },
     "metadata": {},
     "output_type": "display_data"
    }
   ],
   "source": [
    "#Submit job to the queue\n",
    "job_id_gpu = !qsub tutorial1_job.sh -l nodes=1:idc001skl:intel-hd-530 -F \" results/GPU GPU FP32 $VIDEO\" -N obj_det_gpu \n",
    "print(job_id_gpu[0])\n",
    "#Progress indicators\n",
    "if job_id_gpu:\n",
    "    progressIndicator('results/GPU', 'i_progress.txt', \"Inference\", 0, 100)"
   ]
  },
  {
   "cell_type": "markdown",
   "metadata": {},
   "source": [
    "***Wait!***\n",
    "\n",
    "\n",
    "Please wait for 1-2 minutes after running the above cell for inferencing.\n",
    "\n",
    "####  Execute the ROIViewer Sample\n",
    "\n",
    "For simplicity of the code and to put more focus on the performance number, video rendering with rectangle boxes for detected objects has been separated from tutorial1.py"
   ]
  },
  {
   "cell_type": "code",
   "execution_count": 19,
   "metadata": {},
   "outputs": [],
   "source": [
    "! python3 ROIviewer.py -i $HOME/Reference-samples/smart-video-workshop/object-detection/Python/cars_1900.mp4  -l $HOME/Reference-samples/smart-video-workshop/object-detection/pascal_voc_classes.txt -o results/GPU "
   ]
  },
  {
   "cell_type": "markdown",
   "metadata": {},
   "source": [
    "#### Submitting to an edge compute node with Intel® NCS 2 (Neural Compute Stick 2)\n",
    "In the following cell, we submit a job to <a \n",
    "    href=\"https://software.intel.com/en-us/iot/hardware/iei-tank-dev-kit-core\">IEI \n",
    "    Tank 870-Q170</a> edge node with an <a href=\"https://ark.intel.com/products/88186/Intel-Core-i5-6500TE-Processor-6M-Cache-up-to-3-30-GHz-\">Intel Core i5-6500te CPU</a>. The inference workload will run on an <a \n",
    "    href=\"https://software.intel.com/en-us/neural-compute-stick\">Intel Neural Compute Stick 2</a> installed in this  node."
   ]
  },
  {
   "cell_type": "code",
   "execution_count": 20,
   "metadata": {},
   "outputs": [
    {
     "name": "stdout",
     "output_type": "stream",
     "text": [
      "38640.c003\n"
     ]
    },
    {
     "data": {
      "application/vnd.jupyter.widget-view+json": {
       "model_id": "83247476c5294dafb4a661861a3e0fc6",
       "version_major": 2,
       "version_minor": 0
      },
      "text/plain": [
       "HBox(children=(FloatProgress(value=0.0, bar_style='info', description='Inference', style=ProgressStyle(descrip…"
      ]
     },
     "metadata": {},
     "output_type": "display_data"
    }
   ],
   "source": [
    "#Submit job to the queue\n",
    "job_id_ncs2 = !qsub tutorial1_job.sh -l nodes=1:idc004nc2:intel-ncs2 -F \"results/NCS2 MYRIAD FP16 $VIDEO \" -N obj_det_ncs2\n",
    "print(job_id_ncs2[0]) \n",
    "#Progress indicators\n",
    "if job_id_ncs2:\n",
    "    progressIndicator('results/NCS2', 'i_progress.txt', \"Inference\", 0, 100)"
   ]
  },
  {
   "cell_type": "markdown",
   "metadata": {},
   "source": [
    "***Wait!***\n",
    "\n",
    "\n",
    "Please wait for 1-2 minutes after running the above cell for inferencing.\n",
    "\n",
    "#### Execute the ROIViewer Sample\n",
    "\n",
    "For simplicity of the code and to put more focus on the performance number, video rendering with rectangle boxes for detected objects has been separated from tutorial1.py"
   ]
  },
  {
   "cell_type": "code",
   "execution_count": 21,
   "metadata": {},
   "outputs": [],
   "source": [
    "! python3 ROIviewer.py -i $HOME/Reference-samples/smart-video-workshop/object-detection/Python/cars_1900.mp4  -l $HOME/Reference-samples/smart-video-workshop/object-detection/pascal_voc_classes.txt -o results/NCS2"
   ]
  },
  {
   "cell_type": "markdown",
   "metadata": {},
   "source": [
    "### 3.4 Check the Progress\n",
    "\n",
    "Check the progress of the jobs. `Q` status stands for `queued`, `R` for `running`. How long a job is being queued is dependent on number of the users. It should take up to 5 minutes for a job to run. If the job is no longer listed, it's done. "
   ]
  },
  {
   "cell_type": "code",
   "execution_count": 22,
   "metadata": {},
   "outputs": [
    {
     "data": {
      "application/vnd.jupyter.widget-view+json": {
       "model_id": "f5328ed7659340c2bf5e900e34b0c530",
       "version_major": 2,
       "version_minor": 0
      },
      "text/plain": [
       "Output(layout=Layout(border='1px solid gray', width='100%'))"
      ]
     },
     "metadata": {},
     "output_type": "display_data"
    },
    {
     "data": {
      "application/vnd.jupyter.widget-view+json": {
       "model_id": "f3c8a6d0509f4dc4abefa65c8edeaa75",
       "version_major": 2,
       "version_minor": 0
      },
      "text/plain": [
       "Button(description='Stop', style=ButtonStyle())"
      ]
     },
     "metadata": {},
     "output_type": "display_data"
    }
   ],
   "source": [
    "liveQstat()"
   ]
  },
  {
   "cell_type": "markdown",
   "metadata": {},
   "source": [
    "You should see the jobs you have submitted (referenced by `Job ID` that gets displayed right after you submit the job in step 3.3).\n",
    "There should also be an extra job in the queue \"jupyterhub\": this job runs your current Jupyter Notebook session.\n",
    "\n",
    "The 'S' column shows the current status. \n",
    "- If it is in Q state, it is in the queue waiting for available resources. \n",
    "- If it is in R state, it is running. \n",
    "- If the job is no longer listed, it means it is completed.\n",
    "\n",
    "**Note**: Time spent in the queue depends on the number of users accessing the edge nodes. Once these jobs begin to run, they should take from 1 to 5 minutes to complete."
   ]
  },
  {
   "cell_type": "markdown",
   "metadata": {},
   "source": [
    "Here are the parameters used in the above cells to run the application:"
   ]
  },
  {
   "cell_type": "code",
   "execution_count": 23,
   "metadata": {},
   "outputs": [
    {
     "name": "stdout",
     "output_type": "stream",
     "text": [
      "usage: tutorial1.py [-h] -m MODEL -i INPUT [-l CPU_EXTENSION] [-pp PLUGIN_DIR]\r\n",
      "                    [-d DEVICE] [--labels LABELS] [-pt PROB_THRESHOLD]\r\n",
      "                    [-fr FR] [-b B] -o OUTPUT_DIR\r\n",
      "\r\n",
      "optional arguments:\r\n",
      "  -h, --help            show this help message and exit\r\n",
      "  -m MODEL, --model MODEL\r\n",
      "                        Path to an .xml file with a trained model.\r\n",
      "  -i INPUT, --input INPUT\r\n",
      "                        Path to video file or image. 'cam' for capturing video\r\n",
      "                        stream from camera\r\n",
      "  -l CPU_EXTENSION, --cpu_extension CPU_EXTENSION\r\n",
      "                        MKLDNN (CPU)-targeted custom layers.Absolute path to a\r\n",
      "                        shared library with the kernels impl.\r\n",
      "  -pp PLUGIN_DIR, --plugin_dir PLUGIN_DIR\r\n",
      "                        Path to a plugin folder\r\n",
      "  -d DEVICE, --device DEVICE\r\n",
      "                        Specify the target device to infer on; CPU, GPU, FPGA\r\n",
      "                        or MYRIAD is acceptable. Demo will look for a suitable\r\n",
      "                        plugin for device specified (CPU by default)\r\n",
      "  --labels LABELS       Labels mapping file\r\n",
      "  -pt PROB_THRESHOLD, --prob_threshold PROB_THRESHOLD\r\n",
      "                        Probability threshold for detections filtering\r\n",
      "  -fr FR                maximum frames to process\r\n",
      "  -b B                  Batch size\r\n",
      "  -o OUTPUT_DIR, --output_dir OUTPUT_DIR\r\n",
      "                        Location to store the results of the processing\r\n"
     ]
    }
   ],
   "source": [
    "! python3 tutorial1.py -h"
   ]
  },
  {
   "cell_type": "code",
   "execution_count": 24,
   "metadata": {},
   "outputs": [
    {
     "name": "stdout",
     "output_type": "stream",
     "text": [
      "usage: ROIviewer.py [-h] -i INPUT -l LABELS [--ROIfile ROIFILE] [-b B] -o\r\n",
      "                    OUTPUT_DIR\r\n",
      "\r\n",
      "optional arguments:\r\n",
      "  -h, --help            show this help message and exit\r\n",
      "  -i INPUT, --input INPUT\r\n",
      "                        Path to video file or image. 'cam' for capturing video\r\n",
      "                        stream from camera\r\n",
      "  -l LABELS, --labels LABELS\r\n",
      "                        Labels mapping file\r\n",
      "  --ROIfile ROIFILE     Path to ROI file.\r\n",
      "  -b B                  Batch size\r\n",
      "  -o OUTPUT_DIR, --output_dir OUTPUT_DIR\r\n",
      "                        Location to store the results of the processing\r\n"
     ]
    }
   ],
   "source": [
    "! python3 ROIviewer.py -h"
   ]
  },
  {
   "cell_type": "markdown",
   "metadata": {},
   "source": [
    "\n",
    "\n",
    "## Step 4: View Results\n",
    "\n",
    "Once the jobs are completed, the queue system outputs the `stdout` and `stderr` streams of each job into files with names\n",
    "`obj_det_{type}.o{JobID}` and `obj_det_{type}.e{JobID}`. Here, obj_det_{type} corresponds to the `-N` option of qsub. For example, `core` for Core CPU target.\n",
    "\n",
    "You can find the output video files inside the `results` directory. We wrote a short utility script that will display these videos within the notebook. See `demoutils.py` if you are interested in understanding further how the results are displayed in notebook. \n",
    "\n",
    "`obj_det_{type}.e{JobID}`\n",
    "\n",
    "(here, obj_det_{type} corresponds to the `-N` option of qsub).\n",
    "\n",
    "However, for this case, we may be more interested in the output video files. They are stored in mp4 format inside the `results/` directory.\n",
    "We wrote a short utility script that will display these videos with in the notebook.\n",
    "Run the cells below to display them.\n",
    "See `demoutils.py` if you are interested in understanding further how the results are displayed in notebook."
   ]
  },
  {
   "cell_type": "code",
   "execution_count": 25,
   "metadata": {},
   "outputs": [
    {
     "data": {
      "text/html": [
       "<h2>IEI Tank (Intel Core CPU)</h2>\n",
       "    <p>256 \n",
       " frames processed in 2.52 \n",
       " seconds</p>\n",
       "    <video alt=\"\" controls autoplay height=\"480\"><source src=\"results/Core/cars_output.mp4\" type=\"video/mp4\" /></video>\n",
       "    "
      ],
      "text/plain": [
       "<IPython.core.display.HTML object>"
      ]
     },
     "execution_count": 25,
     "metadata": {},
     "output_type": "execute_result"
    }
   ],
   "source": [
    "videoHTML('IEI Tank (Intel Core CPU)', \n",
    "          ['results/Core/cars_output.mp4'], \n",
    "          'results/Core/stats.txt')"
   ]
  },
  {
   "cell_type": "code",
   "execution_count": 26,
   "metadata": {},
   "outputs": [
    {
     "data": {
      "text/html": [
       "<h2>IEI Intel GPU (Intel Core + Onboard GPU)</h2>\n",
       "    <p>256 \n",
       " frames processed in 2.19 \n",
       " seconds</p>\n",
       "    <video alt=\"\" controls autoplay height=\"480\"><source src=\"results/GPU/cars_output.mp4\" type=\"video/mp4\" /></video>\n",
       "    "
      ],
      "text/plain": [
       "<IPython.core.display.HTML object>"
      ]
     },
     "execution_count": 26,
     "metadata": {},
     "output_type": "execute_result"
    }
   ],
   "source": [
    "videoHTML('IEI Intel GPU (Intel Core + Onboard GPU)', \n",
    "          ['results/GPU/cars_output.mp4'], \n",
    "          'results/GPU/stats.txt')"
   ]
  },
  {
   "cell_type": "code",
   "execution_count": 27,
   "metadata": {},
   "outputs": [
    {
     "data": {
      "text/html": [
       "<h2>IEI Tank + Intel CPU + Intel NCS2</h2>\n",
       "    <p>256 \n",
       " frames processed in 3.86 \n",
       " seconds</p>\n",
       "    <video alt=\"\" controls autoplay height=\"480\"><source src=\"results/NCS2/cars_output.mp4\" type=\"video/mp4\" /></video>\n",
       "    "
      ],
      "text/plain": [
       "<IPython.core.display.HTML object>"
      ]
     },
     "execution_count": 27,
     "metadata": {},
     "output_type": "execute_result"
    }
   ],
   "source": [
    "videoHTML('IEI Tank + Intel CPU + Intel NCS2',\n",
    "           ['results/NCS2/cars_output.mp4'], \n",
    "          'results/NCS2/stats.txt')"
   ]
  },
  {
   "cell_type": "markdown",
   "metadata": {},
   "source": [
    "## Step 5: Performance Comparison\n",
    "\n",
    "The running time of each inference task is recorded in `stats_*job_id*_*architectute*.txt` in `results` folder, where the *architecture* corresponds to the architecture of the target edge compute node. Run the cell below to plot the results of all jobs side-by-side. Lower values for processing time mean better performance. Keep in mind that some architectures are optimized for the highest performance, others for low power or other metrics."
   ]
  },
  {
   "cell_type": "code",
   "execution_count": 28,
   "metadata": {},
   "outputs": [
    {
     "data": {
      "image/png": "[encoded data removed]",
      "text/plain": [
       "<Figure size 1080x576 with 1 Axes>"
      ]
     },
     "metadata": {
      "needs_background": "light"
     },
     "output_type": "display_data"
    },
    {
     "data": {
      "image/png": "[encoded data removed]",
      "text/plain": [
       "<Figure size 1080x576 with 1 Axes>"
      ]
     },
     "metadata": {
      "needs_background": "light"
     },
     "output_type": "display_data"
    }
   ],
   "source": [
    " arch_list = [('core', 'Core', 'Intel Core\\ni5-6500TE\\nCPU'),\n",
    "             ('gpu', 'GPU', ' Intel Core\\ni5-6500TE\\nGPU'),\n",
    "             ('ncs2', 'NCS2', 'Intel\\nNCS2')]\n",
    "\n",
    "stats_list = []\n",
    "for arch, dir_,  a_name in arch_list:\n",
    "    if 'job_id_'+arch in vars():\n",
    "        stats_list.append(('results/{}/stats.txt'.format(dir_), a_name))\n",
    "    else:\n",
    "        stats_list.append(('placeholder'+arch, a_name))\n",
    "\n",
    "summaryPlot(stats_list, 'Architecture', 'Time, seconds', 'Inference Engine Processing Time', 'time' )\n",
    "summaryPlot(stats_list, 'Architecture', 'Frames per second', 'Inference Engine FPS', 'fps' )"
   ]
  },
  {
   "cell_type": "markdown",
   "metadata": {},
   "source": []
  }
 ],
 "metadata": {
  "kernelspec": {
   "display_name": "Python 3 (Ubuntu)",
   "language": "python",
   "name": "c003-python_3"
  },
  "language_info": {
   "codemirror_mode": {
    "name": "ipython",
    "version": 3
   },
   "file_extension": ".py",
   "mimetype": "text/x-python",
   "name": "python",
   "nbconvert_exporter": "python",
   "pygments_lexer": "ipython3",
   "version": "3.5.2"
  }
 },
 "nbformat": 4,
 "nbformat_minor": 2
}
